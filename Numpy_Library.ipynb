{
  "nbformat": 4,
  "nbformat_minor": 0,
  "metadata": {
    "colab": {
      "provenance": []
    },
    "kernelspec": {
      "name": "python3",
      "display_name": "Python 3"
    },
    "language_info": {
      "name": "python"
    }
  },
  "cells": [
    {
      "cell_type": "markdown",
      "source": [
        "Integer variables: Used to store whole numbers (positive, negative, or zero)\n",
        "Example: x = 5\n",
        "\n",
        "Float variables: Used to store decimal numbers\n",
        "Example: y = 3.14\n",
        "\n",
        "String variables: Used to store a sequence of characters\n",
        "Example: name = \"John\"\n",
        "\n",
        "Boolean variables: Used to store True or False values\n",
        "Example: is_raining = True\n",
        "\n",
        "List variables: Used to store a collection of values (which can be of different data types)\n",
        "Example: fruits = [\"apple\", \"banana\", \"orange\"]\n",
        "\n",
        "Tuple variables: Similar to lists, but are immutable (cannot be changed once created)\n",
        "Example: coordinates = (3, 4)\n",
        "\n",
        "Set variables: Used to store a collection of unique values (duplicates are automatically removed)\n",
        "Example: unique_numbers = {1, 2, 3}\n",
        "\n",
        "Dictionary variables: Used to store a collection of key-value pairs\n",
        "Example: person = {\"name\": \"John\", \"age\": 25}"
      ],
      "metadata": {
        "id": "TLZlhVdHxQbM"
      }
    },
    {
      "cell_type": "markdown",
      "source": [
        "a dataframe is a variable in Python. Specifically, a dataframe is a type of object in the pandas library that is used to represent tabular data in a way that is similar to a spreadsheet or a SQL table.\n",
        "\n",
        "When you create a dataframe in Python using the pandas library, you are essentially creating a new object that is stored in memory and can be referenced using a variable name.\n",
        "\n",
        "\n",
        "\n",
        "```\n",
        "# import pandas as pd\n",
        "\n",
        "data = {'name': ['John', 'Jane', 'Bob'], 'age': [25, 30, 35], 'city': ['New York', 'San Francisco', 'Chicago']}\n",
        "df = pd.DataFrame(data)\n",
        "\n",
        "```\n",
        "\n"
      ],
      "metadata": {
        "id": "hj9UHXOkxShW"
      }
    },
    {
      "cell_type": "code",
      "execution_count": 38,
      "metadata": {
        "id": "iSuaJYgsxNAc"
      },
      "outputs": [],
      "source": [
        "import numpy as np\n",
        "import sys"
      ]
    },
    {
      "cell_type": "markdown",
      "source": [
        "*Numpy is a multidimensional arrays *\n",
        "\n",
        "Numpy vs lists :\n",
        "\n",
        "Numpy is much faster than lists / Cache utilization / Numpy has every feature of list and a lot more / It is a Matlab replacement / Pandas library uses numpy\n",
        "/ used for machine learning\n"
      ],
      "metadata": {
        "id": "lBlq4Gjyye26"
      }
    },
    {
      "cell_type": "markdown",
      "source": [
        "# **Basics**"
      ],
      "metadata": {
        "id": "QYQ1Tal9zujv"
      }
    },
    {
      "cell_type": "code",
      "source": [
        "a = np.array([1,2,3] , dtype = 'int32')  # 1D\n",
        "print(a)"
      ],
      "metadata": {
        "colab": {
          "base_uri": "https://localhost:8080/"
        },
        "id": "s9sOqdY0zLpW",
        "outputId": "8e7778eb-4654-4697-9cc5-67d2cc3bec26"
      },
      "execution_count": 39,
      "outputs": [
        {
          "output_type": "stream",
          "name": "stdout",
          "text": [
            "[1 2 3]\n"
          ]
        }
      ]
    },
    {
      "cell_type": "code",
      "source": [
        "b = np.array([[9.0,8.0,7.0],[6.0,5.0,4.0]])  #2D\n",
        "print(b)"
      ],
      "metadata": {
        "colab": {
          "base_uri": "https://localhost:8080/"
        },
        "id": "MMqKdOgPz5xP",
        "outputId": "0aaf4820-3ab5-45d3-94d3-28f88bd36656"
      },
      "execution_count": 40,
      "outputs": [
        {
          "output_type": "stream",
          "name": "stdout",
          "text": [
            "[[9. 8. 7.]\n",
            " [6. 5. 4.]]\n"
          ]
        }
      ]
    },
    {
      "cell_type": "code",
      "source": [
        "#How to get the dimension\n",
        "b.ndim"
      ],
      "metadata": {
        "colab": {
          "base_uri": "https://localhost:8080/"
        },
        "id": "FQ6SS_2j0JkH",
        "outputId": "36b1004a-2f9b-4832-fa51-f1733e7e690b"
      },
      "execution_count": 41,
      "outputs": [
        {
          "output_type": "execute_result",
          "data": {
            "text/plain": [
              "2"
            ]
          },
          "metadata": {},
          "execution_count": 41
        }
      ]
    },
    {
      "cell_type": "code",
      "source": [
        "#How to get the shape\n",
        "b.shape"
      ],
      "metadata": {
        "colab": {
          "base_uri": "https://localhost:8080/"
        },
        "id": "7DlzU1h30V42",
        "outputId": "eaf9d443-f287-4e3d-f474-0fdb9ef6c259"
      },
      "execution_count": 42,
      "outputs": [
        {
          "output_type": "execute_result",
          "data": {
            "text/plain": [
              "(2, 3)"
            ]
          },
          "metadata": {},
          "execution_count": 42
        }
      ]
    },
    {
      "cell_type": "code",
      "source": [
        "#get type\n",
        "b.dtype"
      ],
      "metadata": {
        "colab": {
          "base_uri": "https://localhost:8080/"
        },
        "id": "3KH8cUgT3ur9",
        "outputId": "90ae30fc-e56a-4436-9a85-4d9f4abb517d"
      },
      "execution_count": 43,
      "outputs": [
        {
          "output_type": "execute_result",
          "data": {
            "text/plain": [
              "dtype('float64')"
            ]
          },
          "metadata": {},
          "execution_count": 43
        }
      ]
    },
    {
      "cell_type": "markdown",
      "source": [
        "# Accessing/Changing specific elements"
      ],
      "metadata": {
        "id": "nHRJ261T_qmC"
      }
    },
    {
      "cell_type": "code",
      "source": [
        "c = np.array([[1,2,3,4,5,6,7],[8,9,10,11,12,13,14]])\n",
        "print(c)"
      ],
      "metadata": {
        "colab": {
          "base_uri": "https://localhost:8080/"
        },
        "id": "vMxJ8GZZ_x6e",
        "outputId": "f1881d7e-5b7b-4745-e035-56e15736dc96"
      },
      "execution_count": 44,
      "outputs": [
        {
          "output_type": "stream",
          "name": "stdout",
          "text": [
            "[[ 1  2  3  4  5  6  7]\n",
            " [ 8  9 10 11 12 13 14]]\n"
          ]
        }
      ]
    },
    {
      "cell_type": "code",
      "source": [
        "c.shape"
      ],
      "metadata": {
        "colab": {
          "base_uri": "https://localhost:8080/"
        },
        "id": "m3pq7Irv7P3B",
        "outputId": "0333b9ac-f1a9-4c28-abff-cf78d1b4e8e5"
      },
      "execution_count": 45,
      "outputs": [
        {
          "output_type": "execute_result",
          "data": {
            "text/plain": [
              "(2, 7)"
            ]
          },
          "metadata": {},
          "execution_count": 45
        }
      ]
    },
    {
      "cell_type": "code",
      "source": [
        "#Numpy has zero indexing meaning the first index in the row and column is zero\n",
        "#to see number 13 : second row => index =1 / 6th column => index =6\n",
        "#c[row,column]\n",
        "\n",
        "c[1,5]\n",
        "\n",
        "#you can also use negetaive notation\n",
        "\n",
        "c[1,-2]"
      ],
      "metadata": {
        "colab": {
          "base_uri": "https://localhost:8080/"
        },
        "id": "z6WJFMdv7fsW",
        "outputId": "3adef27d-55ea-45bc-f6e7-f3326955eee3"
      },
      "execution_count": 46,
      "outputs": [
        {
          "output_type": "execute_result",
          "data": {
            "text/plain": [
              "13"
            ]
          },
          "metadata": {},
          "execution_count": 46
        }
      ]
    },
    {
      "cell_type": "code",
      "source": [
        "#get a row\n",
        "c[0,:]\n",
        "#get a column\n",
        "c[:,2]\n"
      ],
      "metadata": {
        "colab": {
          "base_uri": "https://localhost:8080/"
        },
        "id": "M02AEVlK73G6",
        "outputId": "5e1661e7-c06f-4294-9f30-ab4fc3c674d7"
      },
      "execution_count": 47,
      "outputs": [
        {
          "output_type": "execute_result",
          "data": {
            "text/plain": [
              "array([ 3, 10])"
            ]
          },
          "metadata": {},
          "execution_count": 47
        }
      ]
    },
    {
      "cell_type": "code",
      "source": [
        "#[start index:end index:stepsize]\n",
        "\n",
        "c[0,1:6:2]"
      ],
      "metadata": {
        "colab": {
          "base_uri": "https://localhost:8080/"
        },
        "id": "lm0K-_WJ8GLd",
        "outputId": "7c029585-4eaf-418a-b98f-c26615a8b89a"
      },
      "execution_count": 48,
      "outputs": [
        {
          "output_type": "execute_result",
          "data": {
            "text/plain": [
              "array([2, 4, 6])"
            ]
          },
          "metadata": {},
          "execution_count": 48
        }
      ]
    },
    {
      "cell_type": "code",
      "source": [
        "#changing an element\n",
        "\n",
        "c[1,5] = 20\n",
        "print(c)\n",
        "#in a column\n",
        "c[:,2] = 5\n",
        "print(c)"
      ],
      "metadata": {
        "colab": {
          "base_uri": "https://localhost:8080/"
        },
        "id": "XMPw6Zxz8cp4",
        "outputId": "882fedca-19df-4841-d38f-266d10069d44"
      },
      "execution_count": 49,
      "outputs": [
        {
          "output_type": "stream",
          "name": "stdout",
          "text": [
            "[[ 1  2  3  4  5  6  7]\n",
            " [ 8  9 10 11 12 20 14]]\n",
            "[[ 1  2  5  4  5  6  7]\n",
            " [ 8  9  5 11 12 20 14]]\n"
          ]
        }
      ]
    },
    {
      "cell_type": "code",
      "source": [
        "#what if the matrix is in 3d\n",
        "#GET A SPECIFIC ELEMENT FROM OUTSIDE TO INSIDE\n",
        "\n",
        "d = np.array([[1,2],[3,4],[5,6]])  #this is 2d !\n",
        "print(d)\n",
        "print('\\n')\n",
        "d.shape\n",
        "\n",
        "\n",
        "e = np.array([[[1,2],[3,4],[5,6],[7,8]]])  #this is 3d\n",
        "print('\\n')\n",
        "print(e)\n",
        "e.shape\n",
        "print('\\n')\n",
        "\n",
        "e[0,1,1]"
      ],
      "metadata": {
        "colab": {
          "base_uri": "https://localhost:8080/"
        },
        "id": "egKPD9iq8_dg",
        "outputId": "47585352-5dd6-4030-bec6-cf0dea7b7a45"
      },
      "execution_count": 50,
      "outputs": [
        {
          "output_type": "stream",
          "name": "stdout",
          "text": [
            "[[1 2]\n",
            " [3 4]\n",
            " [5 6]]\n",
            "\n",
            "\n",
            "\n",
            "\n",
            "[[[1 2]\n",
            "  [3 4]\n",
            "  [5 6]\n",
            "  [7 8]]]\n",
            "\n",
            "\n"
          ]
        },
        {
          "output_type": "execute_result",
          "data": {
            "text/plain": [
              "4"
            ]
          },
          "metadata": {},
          "execution_count": 50
        }
      ]
    },
    {
      "cell_type": "markdown",
      "source": [
        "# Different Types of Array"
      ],
      "metadata": {
        "id": "MZCxwO4V-VXd"
      }
    },
    {
      "cell_type": "code",
      "source": [
        "#making all zeros\n",
        "f = np.zeros((2,3),dtype = 'int32')\n",
        "print(f)"
      ],
      "metadata": {
        "colab": {
          "base_uri": "https://localhost:8080/"
        },
        "id": "BQ0Lys6R-ZQE",
        "outputId": "b11414c2-0bda-4ad7-ef07-d039e24a873f"
      },
      "execution_count": 51,
      "outputs": [
        {
          "output_type": "stream",
          "name": "stdout",
          "text": [
            "[[0 0 0]\n",
            " [0 0 0]]\n"
          ]
        }
      ]
    },
    {
      "cell_type": "code",
      "source": [
        "#all ones\n",
        "g = np.ones((3,3) , dtype = 'float64')\n",
        "print(g)"
      ],
      "metadata": {
        "colab": {
          "base_uri": "https://localhost:8080/"
        },
        "id": "W2N6H3bz-w-B",
        "outputId": "b00732c2-076b-4d0e-88ca-b5cdb4d5430f"
      },
      "execution_count": 52,
      "outputs": [
        {
          "output_type": "stream",
          "name": "stdout",
          "text": [
            "[[1. 1. 1.]\n",
            " [1. 1. 1.]\n",
            " [1. 1. 1.]]\n"
          ]
        }
      ]
    },
    {
      "cell_type": "code",
      "source": [
        "#any other array\n",
        "h = np.full((5,5) , 85)\n",
        "print(h)"
      ],
      "metadata": {
        "colab": {
          "base_uri": "https://localhost:8080/"
        },
        "id": "6fGKzIlt-_1s",
        "outputId": "e1abc67c-d8c6-4364-f64f-dad32a91c3dc"
      },
      "execution_count": 53,
      "outputs": [
        {
          "output_type": "stream",
          "name": "stdout",
          "text": [
            "[[85 85 85 85 85]\n",
            " [85 85 85 85 85]\n",
            " [85 85 85 85 85]\n",
            " [85 85 85 85 85]\n",
            " [85 85 85 85 85]]\n"
          ]
        }
      ]
    },
    {
      "cell_type": "code",
      "source": [
        "#making a array with the same size\n",
        "c = np.array([[1,2,3,4,5,6,7],[8,9,10,11,12,13,14]])\n",
        "print(c)\n",
        "print('\\n')\n",
        "i = np.full_like(c,11)\n",
        "print(i)"
      ],
      "metadata": {
        "colab": {
          "base_uri": "https://localhost:8080/"
        },
        "id": "2_WeVc9d_QxZ",
        "outputId": "92a9427e-5386-476a-937f-beb80606c862"
      },
      "execution_count": 54,
      "outputs": [
        {
          "output_type": "stream",
          "name": "stdout",
          "text": [
            "[[ 1  2  3  4  5  6  7]\n",
            " [ 8  9 10 11 12 13 14]]\n",
            "\n",
            "\n",
            "[[11 11 11 11 11 11 11]\n",
            " [11 11 11 11 11 11 11]]\n"
          ]
        }
      ]
    },
    {
      "cell_type": "code",
      "source": [
        "#random numbers\n",
        "np.random.rand(4,2)\n",
        "\n",
        "#random integer numbers\n",
        "np.random.randint(10 , size = (3,3))\n",
        "\n",
        "#indetity matrix\n",
        "np.identity(5)  #always a square matrix\n",
        "\n",
        "#you can add arrays together\n",
        "number1 = np.full((5,5),10)\n",
        "number2 = np.full((5,5),-23)\n",
        "ans  = number1 + number2\n",
        "print (ans)"
      ],
      "metadata": {
        "colab": {
          "base_uri": "https://localhost:8080/"
        },
        "id": "jV-xQFvs_pq8",
        "outputId": "61909e66-deb5-46cc-92d6-a89d178cf6b6"
      },
      "execution_count": 55,
      "outputs": [
        {
          "output_type": "stream",
          "name": "stdout",
          "text": [
            "[[-13 -13 -13 -13 -13]\n",
            " [-13 -13 -13 -13 -13]\n",
            " [-13 -13 -13 -13 -13]\n",
            " [-13 -13 -13 -13 -13]\n",
            " [-13 -13 -13 -13 -13]]\n"
          ]
        }
      ]
    },
    {
      "cell_type": "markdown",
      "source": [
        "**Be Careful when copying arrays**\n",
        "\n",
        "when yoy copy and array, whatever change you do to the copy , the same happens for the original one"
      ],
      "metadata": {
        "id": "3b8SrJMZBm17"
      }
    },
    {
      "cell_type": "code",
      "source": [
        "a =np.array([[1,2],[3,4]])\n",
        "b = a\n",
        "b[0,0] = 99\n",
        "print(b)\n",
        "print('\\n')\n",
        "print(a)  #changes to b also happened to a\n",
        "#here is the solution\n",
        "\n",
        "c  = a.copy()\n",
        "c[0,0] = 123\n",
        "print('\\n')\n",
        "print(a)\n",
        "print('\\n')\n",
        "print(c) #changes were applied only to c"
      ],
      "metadata": {
        "colab": {
          "base_uri": "https://localhost:8080/"
        },
        "id": "o-vpgdwmByDK",
        "outputId": "3f569169-eb0f-4fa3-aebd-6b084ba560e3"
      },
      "execution_count": 56,
      "outputs": [
        {
          "output_type": "stream",
          "name": "stdout",
          "text": [
            "[[99  2]\n",
            " [ 3  4]]\n",
            "\n",
            "\n",
            "[[99  2]\n",
            " [ 3  4]]\n",
            "\n",
            "\n",
            "[[99  2]\n",
            " [ 3  4]]\n",
            "\n",
            "\n",
            "[[123   2]\n",
            " [  3   4]]\n"
          ]
        }
      ]
    },
    {
      "cell_type": "markdown",
      "source": [
        "# Mathematical Operations"
      ],
      "metadata": {
        "id": "vh7xCP8oCp4w"
      }
    },
    {
      "cell_type": "code",
      "source": [
        "#you can do the same things you do with variables  #implemented on all elements\n",
        "j = np.array([1,2,3,4])\n",
        "j-2\n",
        "j+2\n",
        "j*2\n",
        "j/2\n",
        "\n",
        "k = np.array([4,3,2,1])\n",
        "l = j+k\n",
        "print(l)"
      ],
      "metadata": {
        "colab": {
          "base_uri": "https://localhost:8080/"
        },
        "id": "VSVwG1CxCuTA",
        "outputId": "e6ae4ddf-249e-4cde-929d-af53e8f14ef6"
      },
      "execution_count": 57,
      "outputs": [
        {
          "output_type": "stream",
          "name": "stdout",
          "text": [
            "[5 5 5 5]\n"
          ]
        }
      ]
    },
    {
      "cell_type": "code",
      "source": [
        "m = np.array([[1,2],[3,4]])\n",
        "m ** 2\n",
        "\n",
        "#finding cosine of all the elemts\n",
        "np.cos(m)"
      ],
      "metadata": {
        "colab": {
          "base_uri": "https://localhost:8080/"
        },
        "id": "LNjxzkG-DUUd",
        "outputId": "68053df1-4a4b-4d40-c5b2-b575823915a7"
      },
      "execution_count": 58,
      "outputs": [
        {
          "output_type": "execute_result",
          "data": {
            "text/plain": [
              "array([[ 0.54030231, -0.41614684],\n",
              "       [-0.9899925 , -0.65364362]])"
            ]
          },
          "metadata": {},
          "execution_count": 58
        }
      ]
    },
    {
      "cell_type": "code",
      "source": [
        "#things are no longer element based\n",
        "a = np.ones((2,3))\n",
        "b = np.full((3,2),2)\n",
        "\n",
        "np.matmul(a,b)"
      ],
      "metadata": {
        "colab": {
          "base_uri": "https://localhost:8080/"
        },
        "id": "JDBoPStlDz66",
        "outputId": "c436cec4-c0c7-4d00-8bc2-67c2b731bc2a"
      },
      "execution_count": 59,
      "outputs": [
        {
          "output_type": "execute_result",
          "data": {
            "text/plain": [
              "array([[6., 6.],\n",
              "       [6., 6.]])"
            ]
          },
          "metadata": {},
          "execution_count": 59
        }
      ]
    },
    {
      "cell_type": "code",
      "source": [
        "\n",
        "a = np.array([[1,2],[3,4]])\n",
        "\n",
        "np.linalg.det(a)"
      ],
      "metadata": {
        "colab": {
          "base_uri": "https://localhost:8080/"
        },
        "id": "JqvBAXbxMI6i",
        "outputId": "a5c74038-626f-4ee7-9e33-36f7a00d9d46"
      },
      "execution_count": 60,
      "outputs": [
        {
          "output_type": "execute_result",
          "data": {
            "text/plain": [
              "-2.0000000000000004"
            ]
          },
          "metadata": {},
          "execution_count": 60
        }
      ]
    },
    {
      "cell_type": "markdown",
      "source": [
        "# Statistics"
      ],
      "metadata": {
        "id": "CqAV1ey1MepF"
      }
    },
    {
      "cell_type": "code",
      "source": [
        "stats = np.array([[1,2,3],[4,5,6]])\n",
        "print(stats)\n",
        "np.min(stats)\n",
        "np.max(stats)\n",
        "np.max(stats, axis = 1)\n",
        "np.sum(stats)"
      ],
      "metadata": {
        "colab": {
          "base_uri": "https://localhost:8080/"
        },
        "id": "rA0C0QysMg8P",
        "outputId": "845c3eb6-9609-4303-f3de-6f5115582ef2"
      },
      "execution_count": 61,
      "outputs": [
        {
          "output_type": "stream",
          "name": "stdout",
          "text": [
            "[[1 2 3]\n",
            " [4 5 6]]\n"
          ]
        },
        {
          "output_type": "execute_result",
          "data": {
            "text/plain": [
              "21"
            ]
          },
          "metadata": {},
          "execution_count": 61
        }
      ]
    }
  ]
}